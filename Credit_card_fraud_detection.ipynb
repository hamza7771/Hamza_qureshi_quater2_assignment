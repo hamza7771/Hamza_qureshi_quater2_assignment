{
  "nbformat": 4,
  "nbformat_minor": 0,
  "metadata": {
    "colab": {
      "name": "Credit_card.ipynb",
      "provenance": [],
      "collapsed_sections": [],
      "authorship_tag": "ABX9TyO5zz6xjrKGmz1b1IJFg70k",
      "include_colab_link": true
    },
    "kernelspec": {
      "name": "python3",
      "display_name": "Python 3"
    },
    "language_info": {
      "name": "python"
    }
  },
  "cells": [
    {
      "cell_type": "markdown",
      "metadata": {
        "id": "view-in-github",
        "colab_type": "text"
      },
      "source": [
        "<a href=\"https://colab.research.google.com/github/hamza7771/Hamza_qureshi_quater2_assignment/blob/main/Credit_card_fraud_detection.ipynb\" target=\"_parent\"><img src=\"https://colab.research.google.com/assets/colab-badge.svg\" alt=\"Open In Colab\"/></a>"
      ]
    },
    {
      "cell_type": "code",
      "metadata": {
        "colab": {
          "base_uri": "https://localhost:8080/"
        },
        "id": "ZU_ya0wBGFMJ",
        "outputId": "80f34847-8dc6-4329-efac-f27ed2a0fa9f"
      },
      "source": [
        "from google.colab import drive\n",
        "drive.mount('/content/drive')\n",
        "\n"
      ],
      "execution_count": 10,
      "outputs": [
        {
          "output_type": "stream",
          "text": [
            "Drive already mounted at /content/drive; to attempt to forcibly remount, call drive.mount(\"/content/drive\", force_remount=True).\n"
          ],
          "name": "stdout"
        }
      ]
    },
    {
      "cell_type": "code",
      "metadata": {
        "colab": {
          "base_uri": "https://localhost:8080/"
        },
        "id": "khMt_fx3ODWF",
        "outputId": "6675eab8-daea-44d5-9251-fc5a27a1e53c"
      },
      "source": [
        "cd /content/drive/MyDrive/ai_assignment/\n"
      ],
      "execution_count": 11,
      "outputs": [
        {
          "output_type": "stream",
          "text": [
            "/content/drive/MyDrive/ai_assignment\n"
          ],
          "name": "stdout"
        }
      ]
    },
    {
      "cell_type": "code",
      "metadata": {
        "id": "7UDQBmIKOFt8"
      },
      "source": [
        "import pandas as pd\n",
        "credit=pd.read_csv(\"./creditcard.csv\")\n",
        "import numpy as np\n",
        "import tensorflow as tf\n"
      ],
      "execution_count": 12,
      "outputs": []
    },
    {
      "cell_type": "code",
      "metadata": {
        "colab": {
          "base_uri": "https://localhost:8080/"
        },
        "id": "baP6wBErOnjA",
        "outputId": "5e4dbeb8-734f-4ded-dfb3-c3dfcf2a39a7"
      },
      "source": [
        "credit.shape"
      ],
      "execution_count": 13,
      "outputs": [
        {
          "output_type": "execute_result",
          "data": {
            "text/plain": [
              "(284807, 31)"
            ]
          },
          "metadata": {
            "tags": []
          },
          "execution_count": 13
        }
      ]
    },
    {
      "cell_type": "code",
      "metadata": {
        "colab": {
          "base_uri": "https://localhost:8080/"
        },
        "id": "J3BBuVZcP_HD",
        "outputId": "fae5a8a3-dd66-4ddd-9797-145036b3ec6e"
      },
      "source": [
        "credit.isnull().sum()"
      ],
      "execution_count": 14,
      "outputs": [
        {
          "output_type": "execute_result",
          "data": {
            "text/plain": [
              "Time      0\n",
              "V1        0\n",
              "V2        0\n",
              "V3        0\n",
              "V4        0\n",
              "V5        0\n",
              "V6        0\n",
              "V7        0\n",
              "V8        0\n",
              "V9        0\n",
              "V10       0\n",
              "V11       0\n",
              "V12       0\n",
              "V13       0\n",
              "V14       0\n",
              "V15       0\n",
              "V16       0\n",
              "V17       0\n",
              "V18       0\n",
              "V19       0\n",
              "V20       0\n",
              "V21       0\n",
              "V22       0\n",
              "V23       0\n",
              "V24       0\n",
              "V25       0\n",
              "V26       0\n",
              "V27       0\n",
              "V28       0\n",
              "Amount    0\n",
              "Class     0\n",
              "dtype: int64"
            ]
          },
          "metadata": {
            "tags": []
          },
          "execution_count": 14
        }
      ]
    },
    {
      "cell_type": "code",
      "metadata": {
        "colab": {
          "base_uri": "https://localhost:8080/"
        },
        "id": "e15lmDoSQTNL",
        "outputId": "29b342af-a6c5-4913-dd88-95da17d9b3be"
      },
      "source": [
        "#x=credit.Amount\n",
        "#x.isnull().sum()\n",
        "#np.where(credit.applymap(lambda x: x==\" \"))\n",
        "#x.value_counts()\n",
        "\n",
        "(credit['Amount'].values==0).sum()  #no of zeros in amount column"
      ],
      "execution_count": 15,
      "outputs": [
        {
          "output_type": "execute_result",
          "data": {
            "text/plain": [
              "1825"
            ]
          },
          "metadata": {
            "tags": []
          },
          "execution_count": 15
        }
      ]
    },
    {
      "cell_type": "code",
      "metadata": {
        "colab": {
          "base_uri": "https://localhost:8080/"
        },
        "id": "CXWnkfuZYLxy",
        "outputId": "cf0fa6ee-f6c4-4850-edab-bf5141eb0540"
      },
      "source": [
        "(credit['Class'].values==1).sum()  #no of zeros in amount column"
      ],
      "execution_count": 16,
      "outputs": [
        {
          "output_type": "execute_result",
          "data": {
            "text/plain": [
              "492"
            ]
          },
          "metadata": {
            "tags": []
          },
          "execution_count": 16
        }
      ]
    },
    {
      "cell_type": "code",
      "metadata": {
        "colab": {
          "base_uri": "https://localhost:8080/"
        },
        "id": "tab1EyxmTmHK",
        "outputId": "dba4dac5-c6f6-44d2-fd11-2db963ad19d5"
      },
      "source": [
        "np.where(credit.Amount.apply(lambda x: x==0))\n"
      ],
      "execution_count": 17,
      "outputs": [
        {
          "output_type": "execute_result",
          "data": {
            "text/plain": [
              "(array([   383,    514,    534, ..., 283949, 284085, 284770]),)"
            ]
          },
          "metadata": {
            "tags": []
          },
          "execution_count": 17
        }
      ]
    },
    {
      "cell_type": "code",
      "metadata": {
        "id": "WZ1EM7CN8f_A"
      },
      "source": [
        "mean=train_data.mean(axis=0)\n",
        "std=train_data.std(axis=0)\n",
        "train_data-=mean\n",
        "train_data/=std\n",
        "test_data-=mean\n",
        "test_data/=std\n",
        "\n",
        "train_data.head()\n",
        "#test_data.head()\n",
        "\n",
        "mean_label=train_label.mean(axis=0)\n",
        "std_label=train_label.std(axis=0)\n",
        "train_label-=mean_label\n",
        "#train_data.head(5)\n",
        "train_label/=std_label\n",
        "#print(mean)\n",
        "\n",
        "#print(std)\n",
        "test_label-=mean_label\n",
        "#train_data.head(5)\n",
        "test_label/=std_label\n",
        "#test_label\n",
        "#train_data.head()\n",
        "#test_data.head()"
      ],
      "execution_count": 34,
      "outputs": []
    },
    {
      "cell_type": "code",
      "metadata": {
        "colab": {
          "base_uri": "https://localhost:8080/"
        },
        "id": "X44Lsdzdv5oK",
        "outputId": "815f0dad-add8-49bc-f72b-d127a1db9b17"
      },
      "source": [
        "non_fraud=credit[credit['Class']==0]\n",
        "fraud=credit[credit['Class']==1]\n",
        "len(fraud)\n",
        "non_fraud=non_fraud.sample(2*fraud.shape[0])\n",
        "data=fraud.append(non_fraud)\n",
        "data=data.sample(frac=1)\n",
        "x=data.drop(columns='Class')\n",
        "y=data['Class']\n",
        "y.head(10)"
      ],
      "execution_count": 36,
      "outputs": [
        {
          "output_type": "execute_result",
          "data": {
            "text/plain": [
              "274897    0\n",
              "11502     0\n",
              "34307     0\n",
              "44270     1\n",
              "191690    1\n",
              "150669    1\n",
              "53794     1\n",
              "44954     0\n",
              "151807    1\n",
              "15751     1\n",
              "Name: Class, dtype: int64"
            ]
          },
          "metadata": {
            "tags": []
          },
          "execution_count": 36
        }
      ]
    },
    {
      "cell_type": "code",
      "metadata": {
        "colab": {
          "base_uri": "https://localhost:8080/"
        },
        "id": "_MFKLID2xpD-",
        "outputId": "27e8b4c5-9f3d-483c-a706-b7d2ade985d7"
      },
      "source": [
        "#non_fraud.shape\n",
        "data.shape"
      ],
      "execution_count": 37,
      "outputs": [
        {
          "output_type": "execute_result",
          "data": {
            "text/plain": [
              "(1476, 31)"
            ]
          },
          "metadata": {
            "tags": []
          },
          "execution_count": 37
        }
      ]
    },
    {
      "cell_type": "code",
      "metadata": {
        "id": "TOT5cgayTCDb"
      },
      "source": [
        "#credit = credit.sample(frac = 1)\n",
        "from sklearn.model_selection import train_test_split\n",
        "train_data,test_data,train_label,test_label=train_test_split(x,y,test_size=0.30,random_state=45)\n",
        "\n",
        "#credit"
      ],
      "execution_count": 38,
      "outputs": []
    },
    {
      "cell_type": "code",
      "metadata": {
        "colab": {
          "base_uri": "https://localhost:8080/",
          "height": 217
        },
        "id": "5n2qRdlkSY28",
        "outputId": "185066b2-c5dc-4d03-80ee-649065fefc7f"
      },
      "source": [
        "#np.random.seed()\n",
        "#msk=np.random.rand(len(credit)) <0.5\n",
        "\n",
        "#train_total=credit[msk]\n",
        "#test_total=credit[~msk]\n",
        "\n",
        "\n",
        "#train_label=train_label.loc[:,\"Class\"]\n",
        "#test_label=test_label.loc[:\"Class\"]\n",
        "\n",
        "#test_data=test_data.drop(columns='Class')\n",
        "#train_data=train_data.drop(columns='Class')\n",
        "train_data.head()\n"
      ],
      "execution_count": 39,
      "outputs": [
        {
          "output_type": "execute_result",
          "data": {
            "text/html": [
              "<div>\n",
              "<style scoped>\n",
              "    .dataframe tbody tr th:only-of-type {\n",
              "        vertical-align: middle;\n",
              "    }\n",
              "\n",
              "    .dataframe tbody tr th {\n",
              "        vertical-align: top;\n",
              "    }\n",
              "\n",
              "    .dataframe thead th {\n",
              "        text-align: right;\n",
              "    }\n",
              "</style>\n",
              "<table border=\"1\" class=\"dataframe\">\n",
              "  <thead>\n",
              "    <tr style=\"text-align: right;\">\n",
              "      <th></th>\n",
              "      <th>Time</th>\n",
              "      <th>V1</th>\n",
              "      <th>V2</th>\n",
              "      <th>V3</th>\n",
              "      <th>V4</th>\n",
              "      <th>V5</th>\n",
              "      <th>V6</th>\n",
              "      <th>V7</th>\n",
              "      <th>V8</th>\n",
              "      <th>V9</th>\n",
              "      <th>V10</th>\n",
              "      <th>V11</th>\n",
              "      <th>V12</th>\n",
              "      <th>V13</th>\n",
              "      <th>V14</th>\n",
              "      <th>V15</th>\n",
              "      <th>V16</th>\n",
              "      <th>V17</th>\n",
              "      <th>V18</th>\n",
              "      <th>V19</th>\n",
              "      <th>V20</th>\n",
              "      <th>V21</th>\n",
              "      <th>V22</th>\n",
              "      <th>V23</th>\n",
              "      <th>V24</th>\n",
              "      <th>V25</th>\n",
              "      <th>V26</th>\n",
              "      <th>V27</th>\n",
              "      <th>V28</th>\n",
              "      <th>Amount</th>\n",
              "    </tr>\n",
              "  </thead>\n",
              "  <tbody>\n",
              "    <tr>\n",
              "      <th>208073</th>\n",
              "      <td>136958.0</td>\n",
              "      <td>-4.049867</td>\n",
              "      <td>3.855728</td>\n",
              "      <td>-1.154241</td>\n",
              "      <td>-1.021199</td>\n",
              "      <td>-0.450703</td>\n",
              "      <td>0.570324</td>\n",
              "      <td>-2.399926</td>\n",
              "      <td>-8.203728</td>\n",
              "      <td>-0.066492</td>\n",
              "      <td>-0.375334</td>\n",
              "      <td>-1.077510</td>\n",
              "      <td>1.642409</td>\n",
              "      <td>1.324146</td>\n",
              "      <td>0.955400</td>\n",
              "      <td>-0.063438</td>\n",
              "      <td>-0.010382</td>\n",
              "      <td>0.345006</td>\n",
              "      <td>0.148439</td>\n",
              "      <td>-0.490580</td>\n",
              "      <td>-2.085458</td>\n",
              "      <td>8.839115</td>\n",
              "      <td>-1.845391</td>\n",
              "      <td>0.877089</td>\n",
              "      <td>-0.105001</td>\n",
              "      <td>0.732604</td>\n",
              "      <td>-0.057692</td>\n",
              "      <td>-0.031349</td>\n",
              "      <td>0.043090</td>\n",
              "      <td>2.29</td>\n",
              "    </tr>\n",
              "    <tr>\n",
              "      <th>209431</th>\n",
              "      <td>137556.0</td>\n",
              "      <td>1.993188</td>\n",
              "      <td>0.038049</td>\n",
              "      <td>-2.040172</td>\n",
              "      <td>1.062186</td>\n",
              "      <td>0.942501</td>\n",
              "      <td>-0.226843</td>\n",
              "      <td>0.556504</td>\n",
              "      <td>-0.209105</td>\n",
              "      <td>0.025448</td>\n",
              "      <td>0.416082</td>\n",
              "      <td>-0.211945</td>\n",
              "      <td>0.615855</td>\n",
              "      <td>-0.272796</td>\n",
              "      <td>0.698426</td>\n",
              "      <td>-1.127520</td>\n",
              "      <td>-0.233432</td>\n",
              "      <td>-0.743919</td>\n",
              "      <td>0.190829</td>\n",
              "      <td>0.443508</td>\n",
              "      <td>-0.196099</td>\n",
              "      <td>0.053108</td>\n",
              "      <td>0.270527</td>\n",
              "      <td>-0.169690</td>\n",
              "      <td>-1.092328</td>\n",
              "      <td>0.549115</td>\n",
              "      <td>-0.446367</td>\n",
              "      <td>-0.026897</td>\n",
              "      <td>-0.077017</td>\n",
              "      <td>42.20</td>\n",
              "    </tr>\n",
              "    <tr>\n",
              "      <th>121379</th>\n",
              "      <td>76172.0</td>\n",
              "      <td>1.293695</td>\n",
              "      <td>-1.904419</td>\n",
              "      <td>1.127502</td>\n",
              "      <td>-0.930973</td>\n",
              "      <td>-2.056718</td>\n",
              "      <td>0.854571</td>\n",
              "      <td>-1.835760</td>\n",
              "      <td>0.259077</td>\n",
              "      <td>-0.172478</td>\n",
              "      <td>0.971006</td>\n",
              "      <td>-2.426060</td>\n",
              "      <td>-0.638966</td>\n",
              "      <td>0.381607</td>\n",
              "      <td>-1.673760</td>\n",
              "      <td>-1.946345</td>\n",
              "      <td>-0.875620</td>\n",
              "      <td>0.974440</td>\n",
              "      <td>0.129336</td>\n",
              "      <td>0.771729</td>\n",
              "      <td>-0.153890</td>\n",
              "      <td>-0.322647</td>\n",
              "      <td>-0.262058</td>\n",
              "      <td>-0.206349</td>\n",
              "      <td>-0.580080</td>\n",
              "      <td>0.487735</td>\n",
              "      <td>-0.028521</td>\n",
              "      <td>0.092571</td>\n",
              "      <td>0.037589</td>\n",
              "      <td>104.45</td>\n",
              "    </tr>\n",
              "    <tr>\n",
              "      <th>258682</th>\n",
              "      <td>158768.0</td>\n",
              "      <td>1.857333</td>\n",
              "      <td>-0.654287</td>\n",
              "      <td>-0.293812</td>\n",
              "      <td>0.534537</td>\n",
              "      <td>-0.859204</td>\n",
              "      <td>-0.456721</td>\n",
              "      <td>-0.570757</td>\n",
              "      <td>-0.056111</td>\n",
              "      <td>1.238297</td>\n",
              "      <td>-0.034969</td>\n",
              "      <td>-0.966846</td>\n",
              "      <td>0.441220</td>\n",
              "      <td>0.315985</td>\n",
              "      <td>-0.275101</td>\n",
              "      <td>0.390103</td>\n",
              "      <td>0.278914</td>\n",
              "      <td>-0.456561</td>\n",
              "      <td>-0.079194</td>\n",
              "      <td>-0.335629</td>\n",
              "      <td>-0.054004</td>\n",
              "      <td>0.204103</td>\n",
              "      <td>0.680969</td>\n",
              "      <td>0.103408</td>\n",
              "      <td>-0.017808</td>\n",
              "      <td>-0.306087</td>\n",
              "      <td>0.568476</td>\n",
              "      <td>-0.027323</td>\n",
              "      <td>-0.036233</td>\n",
              "      <td>74.99</td>\n",
              "    </tr>\n",
              "    <tr>\n",
              "      <th>191130</th>\n",
              "      <td>129127.0</td>\n",
              "      <td>2.047071</td>\n",
              "      <td>0.528578</td>\n",
              "      <td>-2.383235</td>\n",
              "      <td>0.788891</td>\n",
              "      <td>0.448066</td>\n",
              "      <td>-1.838026</td>\n",
              "      <td>0.319178</td>\n",
              "      <td>-0.364186</td>\n",
              "      <td>0.635577</td>\n",
              "      <td>-1.174379</td>\n",
              "      <td>0.060537</td>\n",
              "      <td>-0.677876</td>\n",
              "      <td>-0.868553</td>\n",
              "      <td>-2.365385</td>\n",
              "      <td>1.162427</td>\n",
              "      <td>0.808266</td>\n",
              "      <td>1.821324</td>\n",
              "      <td>1.371209</td>\n",
              "      <td>-0.696057</td>\n",
              "      <td>-0.208313</td>\n",
              "      <td>0.088326</td>\n",
              "      <td>0.417504</td>\n",
              "      <td>-0.036289</td>\n",
              "      <td>-0.191288</td>\n",
              "      <td>0.228188</td>\n",
              "      <td>-0.100352</td>\n",
              "      <td>0.014604</td>\n",
              "      <td>0.006116</td>\n",
              "      <td>1.00</td>\n",
              "    </tr>\n",
              "  </tbody>\n",
              "</table>\n",
              "</div>"
            ],
            "text/plain": [
              "            Time        V1        V2  ...       V27       V28  Amount\n",
              "208073  136958.0 -4.049867  3.855728  ... -0.031349  0.043090    2.29\n",
              "209431  137556.0  1.993188  0.038049  ... -0.026897 -0.077017   42.20\n",
              "121379   76172.0  1.293695 -1.904419  ...  0.092571  0.037589  104.45\n",
              "258682  158768.0  1.857333 -0.654287  ... -0.027323 -0.036233   74.99\n",
              "191130  129127.0  2.047071  0.528578  ...  0.014604  0.006116    1.00\n",
              "\n",
              "[5 rows x 30 columns]"
            ]
          },
          "metadata": {
            "tags": []
          },
          "execution_count": 39
        }
      ]
    },
    {
      "cell_type": "code",
      "metadata": {
        "id": "2wNsNDuIaQDv"
      },
      "source": [
        ""
      ],
      "execution_count": 39,
      "outputs": []
    },
    {
      "cell_type": "code",
      "metadata": {
        "colab": {
          "base_uri": "https://localhost:8080/"
        },
        "id": "o6c0nDPbavTW",
        "outputId": "3bed5e27-46ee-4884-fd18-95f15e0f5170"
      },
      "source": [
        "train_data.dtypes"
      ],
      "execution_count": 40,
      "outputs": [
        {
          "output_type": "execute_result",
          "data": {
            "text/plain": [
              "Time      float64\n",
              "V1        float64\n",
              "V2        float64\n",
              "V3        float64\n",
              "V4        float64\n",
              "V5        float64\n",
              "V6        float64\n",
              "V7        float64\n",
              "V8        float64\n",
              "V9        float64\n",
              "V10       float64\n",
              "V11       float64\n",
              "V12       float64\n",
              "V13       float64\n",
              "V14       float64\n",
              "V15       float64\n",
              "V16       float64\n",
              "V17       float64\n",
              "V18       float64\n",
              "V19       float64\n",
              "V20       float64\n",
              "V21       float64\n",
              "V22       float64\n",
              "V23       float64\n",
              "V24       float64\n",
              "V25       float64\n",
              "V26       float64\n",
              "V27       float64\n",
              "V28       float64\n",
              "Amount    float64\n",
              "dtype: object"
            ]
          },
          "metadata": {
            "tags": []
          },
          "execution_count": 40
        }
      ]
    },
    {
      "cell_type": "code",
      "metadata": {
        "id": "vBrvpD_aX-Hq"
      },
      "source": [
        "#x=(credit.loc[:,credit.columns!='Class'])\n",
        "#y=(credit.loc[:,credit.columns =='Class'])\n"
      ],
      "execution_count": 41,
      "outputs": []
    },
    {
      "cell_type": "code",
      "metadata": {
        "id": "3CaYKN7iQTdC"
      },
      "source": [
        "#from sklearn.model_selection import train_test_split\n",
        "#x_train,x_test,y_train,y_test=train_test_split(x,y,test_size=0.30,random_state=45)"
      ],
      "execution_count": 42,
      "outputs": []
    },
    {
      "cell_type": "code",
      "metadata": {
        "id": "97cHQBKdYjX2"
      },
      "source": [
        "from keras import models\n",
        "from keras import layers\n",
        "rk=models.Sequential()\n",
        "rk.add(layers.Dense(10,activation='relu',input_shape=(train_data.shape[1],)))\n",
        "rk.add(layers.Dropout(0.5))\n",
        "rk.add(layers.Dense(8,activation='relu'))\n",
        "rk.add(layers.Dropout(0.5))\n",
        "rk.add(layers.Dense(6,activation='relu'))\n",
        "rk.add(layers.Dropout(0.5))\n",
        "rk.add(layers.Dense(1,activation='sigmoid'))\n",
        "rk.compile(optimizer='adam',loss='binary_crossentropy',metrics=['accuracy'])\n"
      ],
      "execution_count": 51,
      "outputs": []
    },
    {
      "cell_type": "code",
      "metadata": {
        "colab": {
          "base_uri": "https://localhost:8080/"
        },
        "id": "lU7pLY6UdVMG",
        "outputId": "adc0ec1b-d781-48e7-f7ec-889c6231fdcd"
      },
      "source": [
        "rk.fit(train_data,train_label,epochs=100,validation_split=0.28,validation_batch_size=15,validation_steps=10)"
      ],
      "execution_count": 64,
      "outputs": [
        {
          "output_type": "stream",
          "text": [
            "Epoch 1/100\n",
            "24/24 [==============================] - 0s 8ms/step - loss: 0.6876 - accuracy: 0.6770 - val_loss: 0.6427 - val_accuracy: 0.6600\n",
            "Epoch 2/100\n",
            "24/24 [==============================] - 0s 4ms/step - loss: 0.6618 - accuracy: 0.6783 - val_loss: 0.6424 - val_accuracy: 0.6600\n",
            "Epoch 3/100\n",
            "24/24 [==============================] - 0s 4ms/step - loss: 0.6463 - accuracy: 0.6810 - val_loss: 0.6425 - val_accuracy: 0.6600\n",
            "Epoch 4/100\n",
            "24/24 [==============================] - 0s 4ms/step - loss: 0.7295 - accuracy: 0.6810 - val_loss: 0.6424 - val_accuracy: 0.6600\n",
            "Epoch 5/100\n",
            "24/24 [==============================] - 0s 4ms/step - loss: 0.7055 - accuracy: 0.6797 - val_loss: 0.6421 - val_accuracy: 0.6600\n",
            "Epoch 6/100\n",
            "24/24 [==============================] - 0s 4ms/step - loss: 0.6338 - accuracy: 0.6797 - val_loss: 0.6420 - val_accuracy: 0.6600\n",
            "Epoch 7/100\n",
            "24/24 [==============================] - 0s 4ms/step - loss: 0.7032 - accuracy: 0.6797 - val_loss: 0.6419 - val_accuracy: 0.6600\n",
            "Epoch 8/100\n",
            "24/24 [==============================] - 0s 4ms/step - loss: 0.6415 - accuracy: 0.6797 - val_loss: 0.6418 - val_accuracy: 0.6600\n",
            "Epoch 9/100\n",
            "24/24 [==============================] - 0s 4ms/step - loss: 0.6420 - accuracy: 0.6797 - val_loss: 0.6417 - val_accuracy: 0.6600\n",
            "Epoch 10/100\n",
            "24/24 [==============================] - 0s 4ms/step - loss: 0.6621 - accuracy: 0.6797 - val_loss: 0.6416 - val_accuracy: 0.6600\n",
            "Epoch 11/100\n",
            "24/24 [==============================] - 0s 4ms/step - loss: 0.6358 - accuracy: 0.6797 - val_loss: 0.6416 - val_accuracy: 0.6600\n",
            "Epoch 12/100\n",
            "24/24 [==============================] - 0s 4ms/step - loss: 0.6377 - accuracy: 0.6824 - val_loss: 0.6416 - val_accuracy: 0.6600\n",
            "Epoch 13/100\n",
            "24/24 [==============================] - 0s 4ms/step - loss: 0.6505 - accuracy: 0.6797 - val_loss: 0.6415 - val_accuracy: 0.6600\n",
            "Epoch 14/100\n",
            "24/24 [==============================] - 0s 4ms/step - loss: 0.6362 - accuracy: 0.6810 - val_loss: 0.6415 - val_accuracy: 0.6600\n",
            "Epoch 15/100\n",
            "24/24 [==============================] - 0s 4ms/step - loss: 0.7219 - accuracy: 0.6783 - val_loss: 0.6415 - val_accuracy: 0.6600\n",
            "Epoch 16/100\n",
            "24/24 [==============================] - 0s 4ms/step - loss: 0.6420 - accuracy: 0.6783 - val_loss: 0.6414 - val_accuracy: 0.6600\n",
            "Epoch 17/100\n",
            "24/24 [==============================] - 0s 4ms/step - loss: 0.6843 - accuracy: 0.6783 - val_loss: 0.6413 - val_accuracy: 0.6600\n",
            "Epoch 18/100\n",
            "24/24 [==============================] - 0s 4ms/step - loss: 0.6369 - accuracy: 0.6797 - val_loss: 0.6413 - val_accuracy: 0.6600\n",
            "Epoch 19/100\n",
            "24/24 [==============================] - 0s 4ms/step - loss: 0.6429 - accuracy: 0.6797 - val_loss: 0.6413 - val_accuracy: 0.6600\n",
            "Epoch 20/100\n",
            "24/24 [==============================] - 0s 4ms/step - loss: 0.6412 - accuracy: 0.6783 - val_loss: 0.6412 - val_accuracy: 0.6600\n",
            "Epoch 21/100\n",
            "24/24 [==============================] - 0s 4ms/step - loss: 0.6304 - accuracy: 0.6824 - val_loss: 0.6412 - val_accuracy: 0.6600\n",
            "Epoch 22/100\n",
            "24/24 [==============================] - 0s 4ms/step - loss: 0.6805 - accuracy: 0.6797 - val_loss: 0.6412 - val_accuracy: 0.6600\n",
            "Epoch 23/100\n",
            "24/24 [==============================] - 0s 4ms/step - loss: 0.6340 - accuracy: 0.6810 - val_loss: 0.6412 - val_accuracy: 0.6600\n",
            "Epoch 24/100\n",
            "24/24 [==============================] - 0s 4ms/step - loss: 0.6624 - accuracy: 0.6783 - val_loss: 0.6411 - val_accuracy: 0.6600\n",
            "Epoch 25/100\n",
            "24/24 [==============================] - 0s 4ms/step - loss: 0.6593 - accuracy: 0.6797 - val_loss: 0.6411 - val_accuracy: 0.6600\n",
            "Epoch 26/100\n",
            "24/24 [==============================] - 0s 4ms/step - loss: 0.6417 - accuracy: 0.6797 - val_loss: 0.6411 - val_accuracy: 0.6600\n",
            "Epoch 27/100\n",
            "24/24 [==============================] - 0s 4ms/step - loss: 0.6288 - accuracy: 0.6810 - val_loss: 0.6411 - val_accuracy: 0.6600\n",
            "Epoch 28/100\n",
            "24/24 [==============================] - 0s 4ms/step - loss: 0.6728 - accuracy: 0.6783 - val_loss: 0.6410 - val_accuracy: 0.6600\n",
            "Epoch 29/100\n",
            "24/24 [==============================] - 0s 4ms/step - loss: 0.6561 - accuracy: 0.6797 - val_loss: 0.6410 - val_accuracy: 0.6600\n",
            "Epoch 30/100\n",
            "24/24 [==============================] - 0s 4ms/step - loss: 0.6377 - accuracy: 0.6797 - val_loss: 0.6411 - val_accuracy: 0.6600\n",
            "Epoch 31/100\n",
            "24/24 [==============================] - 0s 4ms/step - loss: 0.6287 - accuracy: 0.6810 - val_loss: 0.6410 - val_accuracy: 0.6600\n",
            "Epoch 32/100\n",
            "24/24 [==============================] - 0s 4ms/step - loss: 0.6347 - accuracy: 0.6797 - val_loss: 0.6410 - val_accuracy: 0.6600\n",
            "Epoch 33/100\n",
            "24/24 [==============================] - 0s 4ms/step - loss: 0.6294 - accuracy: 0.6810 - val_loss: 0.6410 - val_accuracy: 0.6600\n",
            "Epoch 34/100\n",
            "24/24 [==============================] - 0s 4ms/step - loss: 0.6416 - accuracy: 0.6810 - val_loss: 0.6410 - val_accuracy: 0.6600\n",
            "Epoch 35/100\n",
            "24/24 [==============================] - 0s 4ms/step - loss: 0.6463 - accuracy: 0.6783 - val_loss: 0.6410 - val_accuracy: 0.6600\n",
            "Epoch 36/100\n",
            "24/24 [==============================] - 0s 3ms/step - loss: 0.6271 - accuracy: 0.6824 - val_loss: 0.6410 - val_accuracy: 0.6600\n",
            "Epoch 37/100\n",
            "24/24 [==============================] - 0s 4ms/step - loss: 0.6518 - accuracy: 0.6810 - val_loss: 0.6410 - val_accuracy: 0.6600\n",
            "Epoch 38/100\n",
            "24/24 [==============================] - 0s 3ms/step - loss: 0.6366 - accuracy: 0.6810 - val_loss: 0.6410 - val_accuracy: 0.6600\n",
            "Epoch 39/100\n",
            "24/24 [==============================] - 0s 3ms/step - loss: 0.6808 - accuracy: 0.6797 - val_loss: 0.6410 - val_accuracy: 0.6600\n",
            "Epoch 40/100\n",
            "24/24 [==============================] - 0s 4ms/step - loss: 0.6274 - accuracy: 0.6797 - val_loss: 0.6411 - val_accuracy: 0.6600\n",
            "Epoch 41/100\n",
            "24/24 [==============================] - 0s 3ms/step - loss: 0.6256 - accuracy: 0.6810 - val_loss: 0.6411 - val_accuracy: 0.6600\n",
            "Epoch 42/100\n",
            "24/24 [==============================] - 0s 3ms/step - loss: 0.6664 - accuracy: 0.6783 - val_loss: 0.6411 - val_accuracy: 0.6600\n",
            "Epoch 43/100\n",
            "24/24 [==============================] - 0s 3ms/step - loss: 0.6351 - accuracy: 0.6797 - val_loss: 0.6411 - val_accuracy: 0.6600\n",
            "Epoch 44/100\n",
            "24/24 [==============================] - 0s 4ms/step - loss: 0.6301 - accuracy: 0.6810 - val_loss: 0.6411 - val_accuracy: 0.6600\n",
            "Epoch 45/100\n",
            "24/24 [==============================] - 0s 3ms/step - loss: 0.6387 - accuracy: 0.6810 - val_loss: 0.6411 - val_accuracy: 0.6600\n",
            "Epoch 46/100\n",
            "24/24 [==============================] - 0s 3ms/step - loss: 0.6466 - accuracy: 0.6770 - val_loss: 0.6411 - val_accuracy: 0.6600\n",
            "Epoch 47/100\n",
            "24/24 [==============================] - 0s 4ms/step - loss: 0.6433 - accuracy: 0.6783 - val_loss: 0.6412 - val_accuracy: 0.6600\n",
            "Epoch 48/100\n",
            "24/24 [==============================] - 0s 4ms/step - loss: 0.6839 - accuracy: 0.6810 - val_loss: 0.6412 - val_accuracy: 0.6600\n",
            "Epoch 49/100\n",
            "24/24 [==============================] - 0s 4ms/step - loss: 0.6315 - accuracy: 0.6797 - val_loss: 0.6411 - val_accuracy: 0.6600\n",
            "Epoch 50/100\n",
            "24/24 [==============================] - 0s 4ms/step - loss: 0.6238 - accuracy: 0.6810 - val_loss: 0.6412 - val_accuracy: 0.6600\n",
            "Epoch 51/100\n",
            "24/24 [==============================] - 0s 4ms/step - loss: 0.6450 - accuracy: 0.6797 - val_loss: 0.6411 - val_accuracy: 0.6600\n",
            "Epoch 52/100\n",
            "24/24 [==============================] - 0s 4ms/step - loss: 0.6255 - accuracy: 0.6810 - val_loss: 0.6412 - val_accuracy: 0.6600\n",
            "Epoch 53/100\n",
            "24/24 [==============================] - 0s 4ms/step - loss: 0.6298 - accuracy: 0.6797 - val_loss: 0.6412 - val_accuracy: 0.6600\n",
            "Epoch 54/100\n",
            "24/24 [==============================] - 0s 4ms/step - loss: 0.6740 - accuracy: 0.6797 - val_loss: 0.6412 - val_accuracy: 0.6600\n",
            "Epoch 55/100\n",
            "24/24 [==============================] - 0s 4ms/step - loss: 0.6739 - accuracy: 0.6810 - val_loss: 0.6411 - val_accuracy: 0.6600\n",
            "Epoch 56/100\n",
            "24/24 [==============================] - 0s 4ms/step - loss: 0.6318 - accuracy: 0.6797 - val_loss: 0.6412 - val_accuracy: 0.6600\n",
            "Epoch 57/100\n",
            "24/24 [==============================] - 0s 4ms/step - loss: 0.6363 - accuracy: 0.6783 - val_loss: 0.6412 - val_accuracy: 0.6600\n",
            "Epoch 58/100\n",
            "24/24 [==============================] - 0s 4ms/step - loss: 0.6278 - accuracy: 0.6797 - val_loss: 0.6412 - val_accuracy: 0.6600\n",
            "Epoch 59/100\n",
            "24/24 [==============================] - 0s 4ms/step - loss: 0.6298 - accuracy: 0.6810 - val_loss: 0.6412 - val_accuracy: 0.6600\n",
            "Epoch 60/100\n",
            "24/24 [==============================] - 0s 5ms/step - loss: 0.6569 - accuracy: 0.6783 - val_loss: 0.6412 - val_accuracy: 0.6600\n",
            "Epoch 61/100\n",
            "24/24 [==============================] - 0s 4ms/step - loss: 0.6275 - accuracy: 0.6783 - val_loss: 0.6412 - val_accuracy: 0.6600\n",
            "Epoch 62/100\n",
            "24/24 [==============================] - 0s 4ms/step - loss: 0.6267 - accuracy: 0.6810 - val_loss: 0.6413 - val_accuracy: 0.6600\n",
            "Epoch 63/100\n",
            "24/24 [==============================] - 0s 4ms/step - loss: 0.6286 - accuracy: 0.6783 - val_loss: 0.6413 - val_accuracy: 0.6600\n",
            "Epoch 64/100\n",
            "24/24 [==============================] - 0s 4ms/step - loss: 0.6457 - accuracy: 0.6810 - val_loss: 0.6413 - val_accuracy: 0.6600\n",
            "Epoch 65/100\n",
            "24/24 [==============================] - 0s 4ms/step - loss: 0.6327 - accuracy: 0.6797 - val_loss: 0.6413 - val_accuracy: 0.6600\n",
            "Epoch 66/100\n",
            "24/24 [==============================] - 0s 4ms/step - loss: 0.6357 - accuracy: 0.6783 - val_loss: 0.6413 - val_accuracy: 0.6600\n",
            "Epoch 67/100\n",
            "24/24 [==============================] - 0s 4ms/step - loss: 0.6262 - accuracy: 0.6810 - val_loss: 0.6414 - val_accuracy: 0.6600\n",
            "Epoch 68/100\n",
            "24/24 [==============================] - 0s 4ms/step - loss: 0.6429 - accuracy: 0.6797 - val_loss: 0.6414 - val_accuracy: 0.6600\n",
            "Epoch 69/100\n",
            "24/24 [==============================] - 0s 4ms/step - loss: 0.6327 - accuracy: 0.6783 - val_loss: 0.6413 - val_accuracy: 0.6600\n",
            "Epoch 70/100\n",
            "24/24 [==============================] - 0s 4ms/step - loss: 0.6334 - accuracy: 0.6810 - val_loss: 0.6413 - val_accuracy: 0.6600\n",
            "Epoch 71/100\n",
            "24/24 [==============================] - 0s 4ms/step - loss: 0.6489 - accuracy: 0.6770 - val_loss: 0.6413 - val_accuracy: 0.6600\n",
            "Epoch 72/100\n",
            "24/24 [==============================] - 0s 4ms/step - loss: 0.6329 - accuracy: 0.6797 - val_loss: 0.6414 - val_accuracy: 0.6600\n",
            "Epoch 73/100\n",
            "24/24 [==============================] - 0s 4ms/step - loss: 0.6301 - accuracy: 0.6797 - val_loss: 0.6414 - val_accuracy: 0.6600\n",
            "Epoch 74/100\n",
            "24/24 [==============================] - 0s 4ms/step - loss: 0.6300 - accuracy: 0.6797 - val_loss: 0.6414 - val_accuracy: 0.6600\n",
            "Epoch 75/100\n",
            "24/24 [==============================] - 0s 4ms/step - loss: 0.6268 - accuracy: 0.6824 - val_loss: 0.6414 - val_accuracy: 0.6600\n",
            "Epoch 76/100\n",
            "24/24 [==============================] - 0s 4ms/step - loss: 0.6323 - accuracy: 0.6797 - val_loss: 0.6413 - val_accuracy: 0.6600\n",
            "Epoch 77/100\n",
            "24/24 [==============================] - 0s 4ms/step - loss: 0.6486 - accuracy: 0.6810 - val_loss: 0.6413 - val_accuracy: 0.6600\n",
            "Epoch 78/100\n",
            "24/24 [==============================] - 0s 4ms/step - loss: 0.6297 - accuracy: 0.6797 - val_loss: 0.6413 - val_accuracy: 0.6600\n",
            "Epoch 79/100\n",
            "24/24 [==============================] - 0s 4ms/step - loss: 0.6270 - accuracy: 0.6810 - val_loss: 0.6413 - val_accuracy: 0.6600\n",
            "Epoch 80/100\n",
            "24/24 [==============================] - 0s 4ms/step - loss: 0.6340 - accuracy: 0.6810 - val_loss: 0.6413 - val_accuracy: 0.6600\n",
            "Epoch 81/100\n",
            "24/24 [==============================] - 0s 4ms/step - loss: 0.6326 - accuracy: 0.6783 - val_loss: 0.6413 - val_accuracy: 0.6600\n",
            "Epoch 82/100\n",
            "24/24 [==============================] - 0s 4ms/step - loss: 0.6270 - accuracy: 0.6797 - val_loss: 0.6413 - val_accuracy: 0.6600\n",
            "Epoch 83/100\n",
            "24/24 [==============================] - 0s 4ms/step - loss: 0.6658 - accuracy: 0.6797 - val_loss: 0.6413 - val_accuracy: 0.6600\n",
            "Epoch 84/100\n",
            "24/24 [==============================] - 0s 4ms/step - loss: 0.6374 - accuracy: 0.6797 - val_loss: 0.6413 - val_accuracy: 0.6600\n",
            "Epoch 85/100\n",
            "24/24 [==============================] - 0s 4ms/step - loss: 0.6303 - accuracy: 0.6783 - val_loss: 0.6413 - val_accuracy: 0.6600\n",
            "Epoch 86/100\n",
            "24/24 [==============================] - 0s 4ms/step - loss: 0.6315 - accuracy: 0.6783 - val_loss: 0.6413 - val_accuracy: 0.6600\n",
            "Epoch 87/100\n",
            "24/24 [==============================] - 0s 4ms/step - loss: 0.6475 - accuracy: 0.6783 - val_loss: 0.6414 - val_accuracy: 0.6600\n",
            "Epoch 88/100\n",
            "24/24 [==============================] - 0s 4ms/step - loss: 0.6293 - accuracy: 0.6797 - val_loss: 0.6413 - val_accuracy: 0.6600\n",
            "Epoch 89/100\n",
            "24/24 [==============================] - 0s 4ms/step - loss: 0.6315 - accuracy: 0.6783 - val_loss: 0.6414 - val_accuracy: 0.6600\n",
            "Epoch 90/100\n",
            "24/24 [==============================] - 0s 4ms/step - loss: 0.6271 - accuracy: 0.6797 - val_loss: 0.6414 - val_accuracy: 0.6600\n",
            "Epoch 91/100\n",
            "24/24 [==============================] - 0s 4ms/step - loss: 0.6488 - accuracy: 0.6810 - val_loss: 0.6414 - val_accuracy: 0.6600\n",
            "Epoch 92/100\n",
            "24/24 [==============================] - 0s 4ms/step - loss: 0.6312 - accuracy: 0.6783 - val_loss: 0.6414 - val_accuracy: 0.6600\n",
            "Epoch 93/100\n",
            "24/24 [==============================] - 0s 4ms/step - loss: 0.6277 - accuracy: 0.6810 - val_loss: 0.6415 - val_accuracy: 0.6600\n",
            "Epoch 94/100\n",
            "24/24 [==============================] - 0s 4ms/step - loss: 0.6277 - accuracy: 0.6810 - val_loss: 0.6415 - val_accuracy: 0.6600\n",
            "Epoch 95/100\n",
            "24/24 [==============================] - 0s 4ms/step - loss: 0.6274 - accuracy: 0.6783 - val_loss: 0.6416 - val_accuracy: 0.6600\n",
            "Epoch 96/100\n",
            "24/24 [==============================] - 0s 4ms/step - loss: 0.6405 - accuracy: 0.6783 - val_loss: 0.6415 - val_accuracy: 0.6600\n",
            "Epoch 97/100\n",
            "24/24 [==============================] - 0s 3ms/step - loss: 0.6382 - accuracy: 0.6810 - val_loss: 0.6416 - val_accuracy: 0.6600\n",
            "Epoch 98/100\n",
            "24/24 [==============================] - 0s 3ms/step - loss: 0.6264 - accuracy: 0.6797 - val_loss: 0.6416 - val_accuracy: 0.6600\n",
            "Epoch 99/100\n",
            "24/24 [==============================] - 0s 4ms/step - loss: 0.6256 - accuracy: 0.6810 - val_loss: 0.6417 - val_accuracy: 0.6600\n",
            "Epoch 100/100\n",
            "24/24 [==============================] - 0s 5ms/step - loss: 0.6360 - accuracy: 0.6783 - val_loss: 0.6417 - val_accuracy: 0.6600\n"
          ],
          "name": "stdout"
        },
        {
          "output_type": "execute_result",
          "data": {
            "text/plain": [
              "<tensorflow.python.keras.callbacks.History at 0x7f063215ee10>"
            ]
          },
          "metadata": {
            "tags": []
          },
          "execution_count": 64
        }
      ]
    },
    {
      "cell_type": "code",
      "metadata": {
        "colab": {
          "base_uri": "https://localhost:8080/"
        },
        "id": "Z_Ny1gK8oQg_",
        "outputId": "b5ffd32f-3611-4b72-ad97-f120b20de10a"
      },
      "source": [
        "rk.evaluate(test_data,test_label)"
      ],
      "execution_count": 65,
      "outputs": [
        {
          "output_type": "stream",
          "text": [
            "14/14 [==============================] - 0s 1ms/step - loss: 0.6559 - accuracy: 0.6411\n"
          ],
          "name": "stdout"
        },
        {
          "output_type": "execute_result",
          "data": {
            "text/plain": [
              "[0.6558799743652344, 0.6410835385322571]"
            ]
          },
          "metadata": {
            "tags": []
          },
          "execution_count": 65
        }
      ]
    },
    {
      "cell_type": "code",
      "metadata": {
        "colab": {
          "base_uri": "https://localhost:8080/"
        },
        "id": "dtSV0Ejem75O",
        "outputId": "9f9083a5-1be3-4a39-9b64-643a13f5ac66"
      },
      "source": [
        "rk.predict(np.array(test_data.iloc[1,:]).reshape(1,test_data.shape[1]))"
      ],
      "execution_count": 66,
      "outputs": [
        {
          "output_type": "execute_result",
          "data": {
            "text/plain": [
              "array([[0.32316145]], dtype=float32)"
            ]
          },
          "metadata": {
            "tags": []
          },
          "execution_count": 66
        }
      ]
    },
    {
      "cell_type": "code",
      "metadata": {
        "id": "rUMHT2Zzo-7i"
      },
      "source": [
        "pa=rk.predict(test_data)"
      ],
      "execution_count": 67,
      "outputs": []
    },
    {
      "cell_type": "code",
      "metadata": {
        "colab": {
          "base_uri": "https://localhost:8080/"
        },
        "id": "wHQbI-3jpLeI",
        "outputId": "9589496e-f106-4a24-a9ee-07111609bac7"
      },
      "source": [
        "pa\n"
      ],
      "execution_count": 70,
      "outputs": [
        {
          "output_type": "execute_result",
          "data": {
            "text/plain": [
              "array([[0.32316145],\n",
              "       [0.32316145],\n",
              "       [0.32316145],\n",
              "       [0.32316145],\n",
              "       [0.32316145],\n",
              "       [0.32316145],\n",
              "       [0.32316145],\n",
              "       [0.32316145],\n",
              "       [0.32316145],\n",
              "       [0.32316145],\n",
              "       [0.32316145],\n",
              "       [0.32316145],\n",
              "       [0.32316145],\n",
              "       [0.32316145],\n",
              "       [0.32316145],\n",
              "       [0.32316145],\n",
              "       [0.32316145],\n",
              "       [0.32316145],\n",
              "       [0.32316145],\n",
              "       [0.32316145],\n",
              "       [0.32316145],\n",
              "       [0.32316145],\n",
              "       [0.32316145],\n",
              "       [0.32316145],\n",
              "       [0.32316145],\n",
              "       [0.32316145],\n",
              "       [0.32316145],\n",
              "       [0.32316145],\n",
              "       [0.32316145],\n",
              "       [0.32316145],\n",
              "       [0.32316145],\n",
              "       [0.32316145],\n",
              "       [0.32316145],\n",
              "       [0.32316145],\n",
              "       [0.32316145],\n",
              "       [0.32316145],\n",
              "       [0.32316145],\n",
              "       [0.32316145],\n",
              "       [0.32316145],\n",
              "       [0.32316145],\n",
              "       [0.32316145],\n",
              "       [0.32316145],\n",
              "       [0.32316145],\n",
              "       [0.32316145],\n",
              "       [0.32316145],\n",
              "       [0.32316145],\n",
              "       [0.32316145],\n",
              "       [0.32316145],\n",
              "       [0.32316145],\n",
              "       [0.32316145],\n",
              "       [0.32316145],\n",
              "       [0.32316145],\n",
              "       [0.32316145],\n",
              "       [0.32316145],\n",
              "       [0.32316145],\n",
              "       [0.32316145],\n",
              "       [0.32316145],\n",
              "       [0.32316145],\n",
              "       [0.32316145],\n",
              "       [0.32316145],\n",
              "       [0.32316145],\n",
              "       [0.32316145],\n",
              "       [0.32316145],\n",
              "       [0.32316145],\n",
              "       [0.32316145],\n",
              "       [0.32316145],\n",
              "       [0.32316145],\n",
              "       [0.32316145],\n",
              "       [0.32316145],\n",
              "       [0.32316145],\n",
              "       [0.32316145],\n",
              "       [0.32316145],\n",
              "       [0.32316145],\n",
              "       [0.32316145],\n",
              "       [0.32316145],\n",
              "       [0.32316145],\n",
              "       [0.32316145],\n",
              "       [0.32316145],\n",
              "       [0.32316145],\n",
              "       [0.32316145],\n",
              "       [0.32316145],\n",
              "       [0.32316145],\n",
              "       [0.32316145],\n",
              "       [0.32316145],\n",
              "       [0.32316145],\n",
              "       [0.32316145],\n",
              "       [0.32316145],\n",
              "       [0.32316145],\n",
              "       [0.32316145],\n",
              "       [0.32316145],\n",
              "       [0.32316145],\n",
              "       [0.32316145],\n",
              "       [0.32316145],\n",
              "       [0.32316145],\n",
              "       [0.32316145],\n",
              "       [0.32316145],\n",
              "       [0.32316145],\n",
              "       [0.32316145],\n",
              "       [0.32316145],\n",
              "       [0.32316145],\n",
              "       [0.32316145],\n",
              "       [0.32316145],\n",
              "       [0.32316145],\n",
              "       [0.32316145],\n",
              "       [0.32316145],\n",
              "       [0.32316145],\n",
              "       [0.32316145],\n",
              "       [0.32316145],\n",
              "       [0.32316145],\n",
              "       [0.32316145],\n",
              "       [0.32316145],\n",
              "       [0.32316145],\n",
              "       [0.32316145],\n",
              "       [0.32316145],\n",
              "       [0.32316145],\n",
              "       [0.32316145],\n",
              "       [0.32316145],\n",
              "       [0.32316145],\n",
              "       [0.32316145],\n",
              "       [0.32316145],\n",
              "       [0.32316145],\n",
              "       [0.32316145],\n",
              "       [0.32316145],\n",
              "       [0.32316145],\n",
              "       [0.32316145],\n",
              "       [0.32316145],\n",
              "       [0.32316145],\n",
              "       [0.32316145],\n",
              "       [0.32316145],\n",
              "       [0.32316145],\n",
              "       [0.32316145],\n",
              "       [0.32316145],\n",
              "       [0.32316145],\n",
              "       [0.32316145],\n",
              "       [0.32316145],\n",
              "       [0.32316145],\n",
              "       [0.32316145],\n",
              "       [0.32316145],\n",
              "       [0.32316145],\n",
              "       [0.32316145],\n",
              "       [0.32316145],\n",
              "       [0.32316145],\n",
              "       [0.32316145],\n",
              "       [0.32316145],\n",
              "       [0.32316145],\n",
              "       [0.32316145],\n",
              "       [0.32316145],\n",
              "       [0.32316145],\n",
              "       [0.32316145],\n",
              "       [0.32316145],\n",
              "       [0.32316145],\n",
              "       [0.32316145],\n",
              "       [0.32316145],\n",
              "       [0.32316145],\n",
              "       [0.32316145],\n",
              "       [0.32316145],\n",
              "       [0.32316145],\n",
              "       [0.32316145],\n",
              "       [0.32316145],\n",
              "       [0.32316145],\n",
              "       [0.32316145],\n",
              "       [0.32316145],\n",
              "       [0.32316145],\n",
              "       [0.32316145],\n",
              "       [0.32316145],\n",
              "       [0.32316145],\n",
              "       [0.32316145],\n",
              "       [0.32316145],\n",
              "       [0.32316145],\n",
              "       [0.32316145],\n",
              "       [0.32316145],\n",
              "       [0.32316145],\n",
              "       [0.32316145],\n",
              "       [0.32316145],\n",
              "       [0.32316145],\n",
              "       [0.32316145],\n",
              "       [0.32316145],\n",
              "       [0.32316145],\n",
              "       [0.32316145],\n",
              "       [0.32316145],\n",
              "       [0.32316145],\n",
              "       [0.32316145],\n",
              "       [0.32316145],\n",
              "       [0.32316145],\n",
              "       [0.32316145],\n",
              "       [0.32316145],\n",
              "       [0.32316145],\n",
              "       [0.32316145],\n",
              "       [0.32316145],\n",
              "       [0.32316145],\n",
              "       [0.32316145],\n",
              "       [0.32316145],\n",
              "       [0.32316145],\n",
              "       [0.32316145],\n",
              "       [0.32316145],\n",
              "       [0.32316145],\n",
              "       [0.32316145],\n",
              "       [0.32316145],\n",
              "       [0.32316145],\n",
              "       [0.32316145],\n",
              "       [0.32316145],\n",
              "       [0.32316145],\n",
              "       [0.32316145],\n",
              "       [0.32316145],\n",
              "       [0.32316145],\n",
              "       [0.32316145],\n",
              "       [0.32316145],\n",
              "       [0.32316145],\n",
              "       [0.32316145],\n",
              "       [0.32316145],\n",
              "       [0.32316145],\n",
              "       [0.32316145],\n",
              "       [0.32316145],\n",
              "       [0.32316145],\n",
              "       [0.32316145],\n",
              "       [0.32316145],\n",
              "       [0.32316145],\n",
              "       [0.32316145],\n",
              "       [0.32316145],\n",
              "       [0.32316145],\n",
              "       [0.32316145],\n",
              "       [0.32316145],\n",
              "       [0.32316145],\n",
              "       [0.32316145],\n",
              "       [0.32316145],\n",
              "       [0.32316145],\n",
              "       [0.32316145],\n",
              "       [0.32316145],\n",
              "       [0.32316145],\n",
              "       [0.32316145],\n",
              "       [0.32316145],\n",
              "       [0.32316145],\n",
              "       [0.32316145],\n",
              "       [0.32316145],\n",
              "       [0.32316145],\n",
              "       [0.32316145],\n",
              "       [0.32316145],\n",
              "       [0.32316145],\n",
              "       [0.32316145],\n",
              "       [0.32316145],\n",
              "       [0.32316145],\n",
              "       [0.32316145],\n",
              "       [0.32316145],\n",
              "       [0.32316145],\n",
              "       [0.32316145],\n",
              "       [0.32316145],\n",
              "       [0.32316145],\n",
              "       [0.32316145],\n",
              "       [0.32316145],\n",
              "       [0.32316145],\n",
              "       [0.32316145],\n",
              "       [0.32316145],\n",
              "       [0.32316145],\n",
              "       [0.32316145],\n",
              "       [0.32316145],\n",
              "       [0.32316145],\n",
              "       [0.32316145],\n",
              "       [0.32316145],\n",
              "       [0.32316145],\n",
              "       [0.32316145],\n",
              "       [0.32316145],\n",
              "       [0.32316145],\n",
              "       [0.32316145],\n",
              "       [0.32316145],\n",
              "       [0.32316145],\n",
              "       [0.32316145],\n",
              "       [0.32316145],\n",
              "       [0.32316145],\n",
              "       [0.32316145],\n",
              "       [0.32316145],\n",
              "       [0.32316145],\n",
              "       [0.32316145],\n",
              "       [0.32316145],\n",
              "       [0.32316145],\n",
              "       [0.32316145],\n",
              "       [0.32316145],\n",
              "       [0.32316145],\n",
              "       [0.32316145],\n",
              "       [0.32316145],\n",
              "       [0.32316145],\n",
              "       [0.32316145],\n",
              "       [0.32316145],\n",
              "       [0.32316145],\n",
              "       [0.32316145],\n",
              "       [0.32316145],\n",
              "       [0.32316145],\n",
              "       [0.32316145],\n",
              "       [0.32316145],\n",
              "       [0.32316145],\n",
              "       [0.32316145],\n",
              "       [0.32316145],\n",
              "       [0.32316145],\n",
              "       [0.32316145],\n",
              "       [0.32316145],\n",
              "       [0.32316145],\n",
              "       [0.32316145],\n",
              "       [0.32316145],\n",
              "       [0.32316145],\n",
              "       [0.32316145],\n",
              "       [0.32316145],\n",
              "       [0.32316145],\n",
              "       [0.32316145],\n",
              "       [0.32316145],\n",
              "       [0.32316145],\n",
              "       [0.32316145],\n",
              "       [0.32316145],\n",
              "       [0.32316145],\n",
              "       [0.32316145],\n",
              "       [0.32316145],\n",
              "       [0.32316145],\n",
              "       [0.32316145],\n",
              "       [0.32316145],\n",
              "       [0.32316145],\n",
              "       [0.32316145],\n",
              "       [0.32316145],\n",
              "       [0.32316145],\n",
              "       [0.32316145],\n",
              "       [0.32316145],\n",
              "       [0.32316145],\n",
              "       [0.32316145],\n",
              "       [0.32316145],\n",
              "       [0.32316145],\n",
              "       [0.32316145],\n",
              "       [0.32316145],\n",
              "       [0.32316145],\n",
              "       [0.32316145],\n",
              "       [0.32316145],\n",
              "       [0.32316145],\n",
              "       [0.32316145],\n",
              "       [0.32316145],\n",
              "       [0.32316145],\n",
              "       [0.32316145],\n",
              "       [0.32316145],\n",
              "       [0.32316145],\n",
              "       [0.32316145],\n",
              "       [0.32316145],\n",
              "       [0.32316145],\n",
              "       [0.32316145],\n",
              "       [0.32316145],\n",
              "       [0.32316145],\n",
              "       [0.32316145],\n",
              "       [0.32316145],\n",
              "       [0.32316145],\n",
              "       [0.32316145],\n",
              "       [0.29347003],\n",
              "       [0.32316145],\n",
              "       [0.32316145],\n",
              "       [0.32316145],\n",
              "       [0.32316145],\n",
              "       [0.32316145],\n",
              "       [0.32316145],\n",
              "       [0.32316145],\n",
              "       [0.32316145],\n",
              "       [0.32316145],\n",
              "       [0.32316145],\n",
              "       [0.32316145],\n",
              "       [0.32316145],\n",
              "       [0.32316145],\n",
              "       [0.32316145],\n",
              "       [0.32316145],\n",
              "       [0.32316145],\n",
              "       [0.32316145],\n",
              "       [0.32316145],\n",
              "       [0.32316145],\n",
              "       [0.32316145],\n",
              "       [0.32316145],\n",
              "       [0.32316145],\n",
              "       [0.32316145],\n",
              "       [0.32316145],\n",
              "       [0.32316145],\n",
              "       [0.32316145],\n",
              "       [0.32316145],\n",
              "       [0.32316145],\n",
              "       [0.32316145],\n",
              "       [0.32316145],\n",
              "       [0.32316145],\n",
              "       [0.32316145],\n",
              "       [0.32316145],\n",
              "       [0.32316145],\n",
              "       [0.32316145],\n",
              "       [0.32316145],\n",
              "       [0.32316145],\n",
              "       [0.32316145],\n",
              "       [0.32316145],\n",
              "       [0.32316145],\n",
              "       [0.32316145],\n",
              "       [0.32316145],\n",
              "       [0.32316145],\n",
              "       [0.32316145],\n",
              "       [0.32316145],\n",
              "       [0.32316145],\n",
              "       [0.32316145],\n",
              "       [0.32316145],\n",
              "       [0.32316145],\n",
              "       [0.32316145],\n",
              "       [0.32316145],\n",
              "       [0.32316145],\n",
              "       [0.32316145],\n",
              "       [0.32316145],\n",
              "       [0.32316145],\n",
              "       [0.32316145],\n",
              "       [0.32316145],\n",
              "       [0.32316145],\n",
              "       [0.32316145],\n",
              "       [0.32316145],\n",
              "       [0.32316145],\n",
              "       [0.32316145],\n",
              "       [0.32316145],\n",
              "       [0.32316145],\n",
              "       [0.32316145],\n",
              "       [0.32316145],\n",
              "       [0.32316145],\n",
              "       [0.32316145],\n",
              "       [0.32316145],\n",
              "       [0.32316145],\n",
              "       [0.32316145],\n",
              "       [0.32316145],\n",
              "       [0.32316145],\n",
              "       [0.32316145],\n",
              "       [0.32316145],\n",
              "       [0.32316145],\n",
              "       [0.32316145],\n",
              "       [0.32316145],\n",
              "       [0.32316145],\n",
              "       [0.32316145],\n",
              "       [0.32316145],\n",
              "       [0.32316145],\n",
              "       [0.32316145],\n",
              "       [0.32316145],\n",
              "       [0.32316145],\n",
              "       [0.32316145],\n",
              "       [0.32316145],\n",
              "       [0.32316145],\n",
              "       [0.32316145],\n",
              "       [0.32316145],\n",
              "       [0.32316145],\n",
              "       [0.32316145],\n",
              "       [0.32316145],\n",
              "       [0.32316145],\n",
              "       [0.32316145],\n",
              "       [0.32316145],\n",
              "       [0.32316145],\n",
              "       [0.32316145]], dtype=float32)"
            ]
          },
          "metadata": {
            "tags": []
          },
          "execution_count": 70
        }
      ]
    },
    {
      "cell_type": "code",
      "metadata": {
        "id": "-EOKjbPipYbM"
      },
      "source": [
        ""
      ],
      "execution_count": 70,
      "outputs": []
    },
    {
      "cell_type": "code",
      "metadata": {
        "colab": {
          "base_uri": "https://localhost:8080/"
        },
        "id": "PULfwNA7qZKr",
        "outputId": "a6e65d89-ca6e-413a-e59f-115cd88d936e"
      },
      "source": [
        ""
      ],
      "execution_count": 50,
      "outputs": [
        {
          "output_type": "execute_result",
          "data": {
            "text/plain": [
              "array([0.39299047], dtype=float32)"
            ]
          },
          "metadata": {
            "tags": []
          },
          "execution_count": 50
        }
      ]
    }
  ]
}